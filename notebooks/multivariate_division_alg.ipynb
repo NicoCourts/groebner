{
 "cells": [
  {
   "cell_type": "markdown",
   "metadata": {},
   "source": [
    "## Chapter: Groebner Bases\n",
    "### Multivariate division algorithm"
   ]
  },
  {
   "cell_type": "code",
   "execution_count": 1,
   "metadata": {},
   "outputs": [],
   "source": [
    "from groebner.polynomials import PolynomialRing, Polynomial"
   ]
  },
  {
   "cell_type": "code",
   "execution_count": 2,
   "metadata": {},
   "outputs": [],
   "source": [
    "R = PolynomialRing(labels=['x','y','z'])"
   ]
  },
  {
   "cell_type": "code",
   "execution_count": 3,
   "metadata": {},
   "outputs": [],
   "source": [
    "x, y, z = R.get_vars()"
   ]
  },
  {
   "cell_type": "code",
   "execution_count": 4,
   "metadata": {},
   "outputs": [
    {
     "name": "stderr",
     "output_type": "stream",
     "text": [
      "/home/nico/documents/math/groebner/groebner/rationals.py:25: RuntimeWarning: Coercing to Rational from float is inherently inexact and will be incorrect for large numerators and denominators. If you need to have certainty the values are correct, you should directly instantiate with Rational(num, den) with integers.\n",
      "  warn(\n"
     ]
    }
   ],
   "source": [
    "f = 3*x+2/3*y**3-z\n",
    "g = y*x+z\n",
    "h = y + z"
   ]
  },
  {
   "cell_type": "code",
   "execution_count": 5,
   "metadata": {},
   "outputs": [
    {
     "name": "stdout",
     "output_type": "stream",
     "text": [
      "2/3y^3 + 3x - z xy + z y + z\n"
     ]
    }
   ],
   "source": [
    "print(f,g,h)"
   ]
  },
  {
   "cell_type": "code",
   "execution_count": 6,
   "metadata": {},
   "outputs": [],
   "source": [
    "# all algorithms are written into algorithms.py\n",
    "from groebner.algorithms import _divide_terms, division_algorithm"
   ]
  },
  {
   "cell_type": "code",
   "execution_count": 7,
   "metadata": {},
   "outputs": [],
   "source": [
    "first = _divide_terms(f.LT(),h.LT())\n",
    "second = _divide_terms(f.LT(),g.LT())"
   ]
  },
  {
   "cell_type": "code",
   "execution_count": 8,
   "metadata": {},
   "outputs": [
    {
     "data": {
      "text/plain": [
       "2/3y^2"
      ]
     },
     "execution_count": 8,
     "metadata": {},
     "output_type": "execute_result"
    }
   ],
   "source": [
    "first"
   ]
  },
  {
   "cell_type": "code",
   "execution_count": 10,
   "metadata": {},
   "outputs": [
    {
     "data": {
      "text/plain": [
       "True"
      ]
     },
     "execution_count": 10,
     "metadata": {},
     "output_type": "execute_result"
    }
   ],
   "source": [
    "second is None"
   ]
  },
  {
   "cell_type": "code",
   "execution_count": 11,
   "metadata": {},
   "outputs": [],
   "source": [
    "[d1, d2], r = division_algorithm(f, [g,h])"
   ]
  },
  {
   "cell_type": "code",
   "execution_count": 12,
   "metadata": {},
   "outputs": [
    {
     "data": {
      "text/plain": [
       "True"
      ]
     },
     "execution_count": 12,
     "metadata": {},
     "output_type": "execute_result"
    }
   ],
   "source": [
    "d1*g + d2*h + r == f"
   ]
  },
  {
   "cell_type": "code",
   "execution_count": 13,
   "metadata": {},
   "outputs": [
    {
     "data": {
      "text/plain": [
       "groebner.polynomials.Polynomial"
      ]
     },
     "execution_count": 13,
     "metadata": {},
     "output_type": "execute_result"
    }
   ],
   "source": [
    "type(d2)"
   ]
  },
  {
   "cell_type": "code",
   "execution_count": 14,
   "metadata": {},
   "outputs": [],
   "source": [
    "# EX 2 IVT pp 63-4\n",
    "f = x**2*y+x*y**2+y**2\n",
    "g = x*y-1\n",
    "h = y**2-1"
   ]
  },
  {
   "cell_type": "code",
   "execution_count": 15,
   "metadata": {},
   "outputs": [],
   "source": [
    "[d1, d2], r = division_algorithm(f, [g,h])"
   ]
  },
  {
   "cell_type": "code",
   "execution_count": 16,
   "metadata": {},
   "outputs": [
    {
     "name": "stdout",
     "output_type": "stream",
     "text": [
      "(x + y)(xy - 1) + (1)(y^2 - 1) + x + y + 1 = x^2y + xy^2 + y^2\n"
     ]
    }
   ],
   "source": [
    "print(f'({d1})({g}) + ({d2})({h}) + {r} = {f}')"
   ]
  },
  {
   "cell_type": "code",
   "execution_count": 17,
   "metadata": {},
   "outputs": [
    {
     "data": {
      "text/plain": [
       "True"
      ]
     },
     "execution_count": 17,
     "metadata": {},
     "output_type": "execute_result"
    }
   ],
   "source": [
    "d1*g + d2*h + r == f"
   ]
  },
  {
   "cell_type": "code",
   "execution_count": 18,
   "metadata": {},
   "outputs": [],
   "source": [
    "# Check multidegrees satisfy the appropriate property (we've completed all division)\n",
    "# ORDER MATTERS\n",
    "for a,b in [(d1, g), (d2, h)]:\n",
    "    assert f.LM() >= (a*b).LM()"
   ]
  },
  {
   "cell_type": "code",
   "execution_count": 19,
   "metadata": {},
   "outputs": [],
   "source": [
    "# EX 4 IVT p 67\n",
    "#(same as above with g and h reversed)\n",
    "f = f = x**2*y+x*y**2+y**2\n",
    "g = x*y-1\n",
    "h = y**2-1"
   ]
  },
  {
   "cell_type": "code",
   "execution_count": 20,
   "metadata": {},
   "outputs": [],
   "source": [
    "[d1, d2], r = division_algorithm(f, [h,g])"
   ]
  },
  {
   "cell_type": "code",
   "execution_count": 21,
   "metadata": {},
   "outputs": [
    {
     "name": "stdout",
     "output_type": "stream",
     "text": [
      "(x + 1)(y^2 - 1) + (x)(xy - 1) + 2x + 1 = x^2y + xy^2 + y^2\n"
     ]
    }
   ],
   "source": [
    "print(f'({d1})({h}) + ({d2})({g}) + {r} = {f}')"
   ]
  },
  {
   "cell_type": "code",
   "execution_count": null,
   "metadata": {},
   "outputs": [],
   "source": []
  }
 ],
 "metadata": {
  "kernelspec": {
   "display_name": "Python 3",
   "language": "python",
   "name": "python3"
  },
  "language_info": {
   "codemirror_mode": {
    "name": "ipython",
    "version": 3
   },
   "file_extension": ".py",
   "mimetype": "text/x-python",
   "name": "python",
   "nbconvert_exporter": "python",
   "pygments_lexer": "ipython3",
   "version": "3.8.8"
  }
 },
 "nbformat": 4,
 "nbformat_minor": 4
}
