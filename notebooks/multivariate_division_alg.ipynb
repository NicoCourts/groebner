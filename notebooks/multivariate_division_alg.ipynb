{
 "cells": [
  {
   "cell_type": "markdown",
   "metadata": {},
   "source": [
    "## Chapter: Groebner Bases\n",
    "### Multivariate division algorithm"
   ]
  },
  {
   "cell_type": "code",
   "execution_count": 1,
   "metadata": {},
   "outputs": [],
   "source": [
    "from groebner.polynomials import PolynomialRing, Polynomial"
   ]
  },
  {
   "cell_type": "code",
   "execution_count": 2,
   "metadata": {},
   "outputs": [],
   "source": [
    "R = PolynomialRing(labels=['x','y','z'])"
   ]
  },
  {
   "cell_type": "code",
   "execution_count": 3,
   "metadata": {},
   "outputs": [],
   "source": [
    "x, y, z = R.get_vars()"
   ]
  },
  {
   "cell_type": "code",
   "execution_count": 4,
   "metadata": {},
   "outputs": [
    {
     "name": "stderr",
     "output_type": "stream",
     "text": [
      "/home/nico/documents/math/groebner/groebner/rationals.py:35: RuntimeWarning: Coercing to Rational from float is inherently inexact and will be incorrect for large numerators and denominators. If you need to have certainty the values are correct, you should directly instantiate with Rational(num, den) with integers.\n",
      "  warn(\n"
     ]
    }
   ],
   "source": [
    "f = 3*x+2/3*y**3-z\n",
    "g = y*x+z\n",
    "h = y + z"
   ]
  },
  {
   "cell_type": "code",
   "execution_count": 5,
   "metadata": {},
   "outputs": [
    {
     "name": "stdout",
     "output_type": "stream",
     "text": [
      "2/3y^3 + 3x - z xy + z y + z\n"
     ]
    }
   ],
   "source": [
    "print(f,g,h)"
   ]
  },
  {
   "cell_type": "code",
   "execution_count": 6,
   "metadata": {},
   "outputs": [],
   "source": [
    "# all algorithms are written into algorithms.py\n",
    "from groebner.algorithms import _divide_terms, division_algorithm"
   ]
  },
  {
   "cell_type": "code",
   "execution_count": 7,
   "metadata": {},
   "outputs": [],
   "source": [
    "first = _divide_terms(f.LT(),h.LT())\n",
    "second = _divide_terms(f.LT(),g.LT())"
   ]
  },
  {
   "cell_type": "code",
   "execution_count": 8,
   "metadata": {},
   "outputs": [
    {
     "data": {
      "text/plain": [
       "2/3y^2"
      ]
     },
     "execution_count": 8,
     "metadata": {},
     "output_type": "execute_result"
    }
   ],
   "source": [
    "first"
   ]
  },
  {
   "cell_type": "code",
   "execution_count": 9,
   "metadata": {},
   "outputs": [
    {
     "data": {
      "text/plain": [
       "True"
      ]
     },
     "execution_count": 9,
     "metadata": {},
     "output_type": "execute_result"
    }
   ],
   "source": [
    "second is None"
   ]
  },
  {
   "cell_type": "code",
   "execution_count": 10,
   "metadata": {},
   "outputs": [],
   "source": [
    "[d1, d2], r = division_algorithm(f, [g,h])"
   ]
  },
  {
   "cell_type": "code",
   "execution_count": 11,
   "metadata": {},
   "outputs": [
    {
     "data": {
      "text/plain": [
       "True"
      ]
     },
     "execution_count": 11,
     "metadata": {},
     "output_type": "execute_result"
    }
   ],
   "source": [
    "d1*g + d2*h + r == f"
   ]
  },
  {
   "cell_type": "code",
   "execution_count": 12,
   "metadata": {},
   "outputs": [
    {
     "data": {
      "text/plain": [
       "groebner.polynomials.Polynomial"
      ]
     },
     "execution_count": 12,
     "metadata": {},
     "output_type": "execute_result"
    }
   ],
   "source": [
    "type(d2)"
   ]
  },
  {
   "cell_type": "code",
   "execution_count": 13,
   "metadata": {},
   "outputs": [],
   "source": [
    "# EX 2 IVT pp 63-4\n",
    "f = x**2*y+x*y**2+y**2\n",
    "g = x*y-1\n",
    "h = y**2-1"
   ]
  },
  {
   "cell_type": "code",
   "execution_count": 14,
   "metadata": {},
   "outputs": [],
   "source": [
    "[d1, d2], r = division_algorithm(f, [g,h])"
   ]
  },
  {
   "cell_type": "code",
   "execution_count": 15,
   "metadata": {},
   "outputs": [
    {
     "name": "stdout",
     "output_type": "stream",
     "text": [
      "(x + y)(xy - 1) + (1)(y^2 - 1) + x + y + 1 = x^2y + xy^2 + y^2\n"
     ]
    }
   ],
   "source": [
    "print(f'({d1})({g}) + ({d2})({h}) + {r} = {f}')"
   ]
  },
  {
   "cell_type": "code",
   "execution_count": 16,
   "metadata": {},
   "outputs": [
    {
     "data": {
      "text/plain": [
       "True"
      ]
     },
     "execution_count": 16,
     "metadata": {},
     "output_type": "execute_result"
    }
   ],
   "source": [
    "d1*g + d2*h + r == f"
   ]
  },
  {
   "cell_type": "code",
   "execution_count": 17,
   "metadata": {},
   "outputs": [],
   "source": [
    "# Check multidegrees satisfy the appropriate property (we've completed all division)\n",
    "# ORDER MATTERS\n",
    "for a,b in [(d1, g), (d2, h)]:\n",
    "    assert f.LM() >= (a*b).LM()"
   ]
  },
  {
   "cell_type": "code",
   "execution_count": 18,
   "metadata": {},
   "outputs": [],
   "source": [
    "# EX 4 IVT p 67\n",
    "#(same as above with g and h reversed)\n",
    "f = f = x**2*y+x*y**2+y**2\n",
    "g = x*y-1\n",
    "h = y**2-1"
   ]
  },
  {
   "cell_type": "code",
   "execution_count": 19,
   "metadata": {},
   "outputs": [],
   "source": [
    "[d1, d2], r = division_algorithm(f, [h,g])"
   ]
  },
  {
   "cell_type": "code",
   "execution_count": 20,
   "metadata": {},
   "outputs": [
    {
     "name": "stdout",
     "output_type": "stream",
     "text": [
      "(x + 1)(y^2 - 1) + (x)(xy - 1) + 2x + 1 = x^2y + xy^2 + y^2\n"
     ]
    }
   ],
   "source": [
    "print(f'({d1})({h}) + ({d2})({g}) + {r} = {f}')"
   ]
  },
  {
   "cell_type": "code",
   "execution_count": 21,
   "metadata": {},
   "outputs": [
    {
     "data": {
      "text/plain": [
       "47/60x^3 + 38/55x^2y + x^2z + 15/16xy^2 + 21/23xz^2 + 21/44y^3 + 14/33y^2z + 4/15yz^2 + 63/95x^2 + 7/27xy + 12/13yz + 5/8z^2 + 1/3x + 1/2y + 1/5z + 15/43"
      ]
     },
     "execution_count": 21,
     "metadata": {},
     "output_type": "execute_result"
    }
   ],
   "source": [
    "R.random()"
   ]
  },
  {
   "cell_type": "code",
   "execution_count": 22,
   "metadata": {},
   "outputs": [],
   "source": [
    "R = PolynomialRing(labels=['x','y','z'])\n",
    "x, y, z = R.get_vars()\n",
    "\n",
    "f = R.random(max_deg=20)\n",
    "g = R.random(max_deg=10)\n",
    "h = R.random(max_deg=10)\n",
    "k = R.random(max_deg=10)\n",
    "\n",
    "[d1, d2, d3], r = division_algorithm(f, [g, h, k])\n",
    "\n",
    "assert f == g*d1 + h*d2 + k*d3 + r"
   ]
  },
  {
   "cell_type": "code",
   "execution_count": 23,
   "metadata": {},
   "outputs": [
    {
     "data": {
      "text/plain": [
       "60481/80142xz^2 - 4576599/4403630y^2z - 878721461/860595120yz^2 + 18968/29241z^3 + 29/57xz - 1664767/491568y^2 - 123758642/115258275yz + 7448069/11871846z^2 + 12238/479655y - 1283948/3357585z - 17859/7084"
      ]
     },
     "execution_count": 23,
     "metadata": {},
     "output_type": "execute_result"
    }
   ],
   "source": [
    "r"
   ]
  },
  {
   "cell_type": "code",
   "execution_count": 24,
   "metadata": {},
   "outputs": [
    {
     "data": {
      "text/plain": [
       "11/42x^2 + 34/49y^2 + 13/63yz + 1/10y + 23/28"
      ]
     },
     "execution_count": 24,
     "metadata": {},
     "output_type": "execute_result"
    }
   ],
   "source": [
    "h"
   ]
  },
  {
   "cell_type": "code",
   "execution_count": 25,
   "metadata": {},
   "outputs": [
    {
     "data": {
      "text/plain": [
       "65/38y - 940/3249z + 140/171"
      ]
     },
     "execution_count": 25,
     "metadata": {},
     "output_type": "execute_result"
    }
   ],
   "source": [
    "d1"
   ]
  },
  {
   "cell_type": "code",
   "execution_count": 26,
   "metadata": {},
   "outputs": [
    {
     "data": {
      "text/plain": [
       "54/55z + 39/11"
      ]
     },
     "execution_count": 26,
     "metadata": {},
     "output_type": "execute_result"
    }
   ],
   "source": [
    "d2"
   ]
  },
  {
   "cell_type": "code",
   "execution_count": 27,
   "metadata": {},
   "outputs": [
    {
     "data": {
      "text/plain": []
     },
     "execution_count": 27,
     "metadata": {},
     "output_type": "execute_result"
    }
   ],
   "source": [
    "d3"
   ]
  },
  {
   "cell_type": "code",
   "execution_count": 28,
   "metadata": {},
   "outputs": [
    {
     "data": {
      "text/plain": [
       "60481/80142xz^2 - 4576599/4403630y^2z - 878721461/860595120yz^2 + 18968/29241z^3 + 29/57xz - 1664767/491568y^2 - 123758642/115258275yz + 7448069/11871846z^2 + 12238/479655y - 1283948/3357585z - 17859/7084"
      ]
     },
     "execution_count": 28,
     "metadata": {},
     "output_type": "execute_result"
    }
   ],
   "source": [
    "r"
   ]
  },
  {
   "cell_type": "code",
   "execution_count": null,
   "metadata": {},
   "outputs": [],
   "source": []
  }
 ],
 "metadata": {
  "kernelspec": {
   "display_name": "Python 3",
   "language": "python",
   "name": "python3"
  },
  "language_info": {
   "codemirror_mode": {
    "name": "ipython",
    "version": 3
   },
   "file_extension": ".py",
   "mimetype": "text/x-python",
   "name": "python",
   "nbconvert_exporter": "python",
   "pygments_lexer": "ipython3",
   "version": "3.8.8"
  }
 },
 "nbformat": 4,
 "nbformat_minor": 4
}
